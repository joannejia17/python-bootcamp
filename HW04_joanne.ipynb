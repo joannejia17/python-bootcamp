{
 "cells": [
  {
   "cell_type": "markdown",
   "metadata": {},
   "source": [
    "### This file includes:\n",
    "   - HW04_ch09_ex02_joanne\n",
    "   - HW04_ch09_ex03_joanne\n",
    "   - HW04_ch09_ex04_joanne\n",
    "   - HW04_ch09_ex05_joanne\n",
    "   - HW04_ch09_ex06\n",
    "   - HW04_ch10_ex01_joanne"
   ]
  },
  {
   "cell_type": "markdown",
   "metadata": {},
   "source": [
    "## HW04_ch09_ex02_joanne"
   ]
  },
  {
   "cell_type": "code",
   "execution_count": 1,
   "metadata": {},
   "outputs": [],
   "source": [
    "# (1)\n",
    "# Write a function named avoids that takes a word and a string of forbidden\n",
    "# letters, and that returns True if the word doesn't use any of the forbidden\n",
    "# letters.\n",
    "#   - write avoids\n",
    "# (2)\n",
    "# Modify your program to prompt the user to enter a string of forbidden\n",
    "# letters and then print the number of words that don't contain any of them.\n",
    "#   - write forbidden_prompt and\n",
    "#   - modify to create forbidden_param that accepts the string as an argument\n",
    "# (3)\n",
    "# Can you find a combination of 5 forbidden letters that excludes the smallest\n",
    "# number of words?\n",
    "#   - write a function that finds this combination of letters: find_five\n",
    "#   - have that function print the letters and print the # of words excluded"
   ]
  },
  {
   "cell_type": "code",
   "execution_count": 2,
   "metadata": {},
   "outputs": [
    {
     "data": {
      "text/plain": [
       "'\\n\\nNote to Michael and Proxima: \\n\\nThis \"find_five\" function is the iffy part: \\nI\\'m assuming running it for 5000 times you are getting close enough to the smallest...\\nIt\\'s not actually giving you the five letters with the absolute smallest forbidden words.\\nThis is why I named the function \"find_five\" instead of \"find_smallest\"\\n\\n'"
      ]
     },
     "execution_count": 2,
     "metadata": {},
     "output_type": "execute_result"
    }
   ],
   "source": [
    "# (1)\n",
    "def avoids(word, forbidden_letters):\n",
    "    for i in word:\n",
    "        if i in forbidden_letters:\n",
    "            return False \n",
    "    return True\n",
    "\n",
    "# (2)\n",
    "def forbidden_prompt():\n",
    "    file = open('words.txt', 'r')\n",
    "    forbidden_letters = input(\"Give me some forbidden letters > \")\n",
    "    count = 0\n",
    "    \n",
    "    for line in file:\n",
    "        line = line.strip()\n",
    "        if avoids(line, forbidden_letters) == True:\n",
    "            count += 1\n",
    "    print(count)\n",
    "\n",
    "    \n",
    "def forbidden_param(forbidden_string):\n",
    "    file = open('words.txt', 'r')\n",
    "    count = 0 \n",
    "    \n",
    "    for line in file:\n",
    "        line = line.strip()\n",
    "        if avoids(line, forbidden_string) == True:\n",
    "            count += 1\n",
    "    \n",
    "    return count\n",
    "\n",
    "\n",
    "# (3)\n",
    "\n",
    "import string\n",
    "import random\n",
    "import math\n",
    "\n",
    "\n",
    "def gen_five(size=5, chars=string.ascii_lowercase):\n",
    "    return ''.join(random.choice(chars) for _ in range(size))\n",
    "\n",
    "\n",
    "def find_five():\n",
    "    file = open('words.txt','r')\n",
    "    count = math.inf\n",
    "    holder = ''\n",
    "\n",
    "    for i in range(500):     \n",
    "        if forbidden_param(gen_five()) < count:\n",
    "            count = forbidden_param(gen_five())\n",
    "            holder = gen_five()\n",
    "    \n",
    "    print(holder,count)\n",
    "\n",
    "    \n",
    "\"\"\"\n",
    "\n",
    "Note to Michael and Proxima: \n",
    "\n",
    "This \"find_five\" function is the iffy part: \n",
    "I'm assuming running it for 5000 times you are getting close enough to the smallest...\n",
    "It's not actually giving you the five letters with the absolute smallest forbidden words.\n",
    "This is why I named the function \"find_five\" instead of \"find_smallest\"\n",
    "\n",
    "\"\"\"\n",
    "\n",
    "# def find_smallest(a,z,excluded):\n",
    "#     file = open('words.txt','r')\n",
    "#     count = math.inf\n",
    "#     letter_holder = ''\n",
    "\n",
    "#     for i in range(ord(a),ord(z)) :\n",
    "#         if str(i) in ord(excluded):\n",
    "#             continue\n",
    "#         elif forbidden_param(chr(i)) < count:\n",
    "#             count = forbidden_param(chr(i))\n",
    "#             letter_holder = chr(i)\n",
    "    \n",
    "#     print(letter_holder)\n",
    "    \n",
    "# find_smallest(\"a\",\"z\",\"e\")\n",
    "\n",
    "# def find_five():\n",
    "#     for i in range(5):\n",
    "#         find_smallest()"
   ]
  },
  {
   "cell_type": "code",
   "execution_count": 3,
   "metadata": {},
   "outputs": [
    {
     "data": {
      "text/plain": [
       "'Notes to self:\\nStill need to understand the following functions: \\n\\n[l for l in \"alex\"]\\n\\nfor i in (print(x) for x in [1, 2, 3]):\\n    pass\\n\\n\\n'"
      ]
     },
     "execution_count": 3,
     "metadata": {},
     "output_type": "execute_result"
    }
   ],
   "source": [
    "'''Notes to self:\n",
    "Still need to understand the following functions: \n",
    "\n",
    "[l for l in \"alex\"]\n",
    "\n",
    "for i in (print(x) for x in [1, 2, 3]):\n",
    "    pass\n",
    "\n",
    "\n",
    "'''"
   ]
  },
  {
   "cell_type": "code",
   "execution_count": 4,
   "metadata": {},
   "outputs": [
    {
     "data": {
      "text/plain": [
       "24260"
      ]
     },
     "execution_count": 4,
     "metadata": {},
     "output_type": "execute_result"
    }
   ],
   "source": [
    "forbidden_param('a')"
   ]
  },
  {
   "cell_type": "code",
   "execution_count": 5,
   "metadata": {},
   "outputs": [
    {
     "data": {
      "text/plain": [
       "17086"
      ]
     },
     "execution_count": 5,
     "metadata": {},
     "output_type": "execute_result"
    }
   ],
   "source": [
    "forbidden_param('e')"
   ]
  },
  {
   "cell_type": "code",
   "execution_count": 6,
   "metadata": {},
   "outputs": [
    {
     "data": {
      "text/plain": [
       "44875"
      ]
     },
     "execution_count": 6,
     "metadata": {},
     "output_type": "execute_result"
    }
   ],
   "source": [
    "forbidden_param('f')"
   ]
  },
  {
   "cell_type": "code",
   "execution_count": 7,
   "metadata": {},
   "outputs": [
    {
     "name": "stdout",
     "output_type": "stream",
     "text": [
      "dozeo 3439\n"
     ]
    }
   ],
   "source": [
    "find_five()"
   ]
  },
  {
   "cell_type": "code",
   "execution_count": 8,
   "metadata": {},
   "outputs": [
    {
     "name": "stdout",
     "output_type": "stream",
     "text": [
      "ibbfj 1720\n"
     ]
    }
   ],
   "source": [
    "find_five()"
   ]
  },
  {
   "cell_type": "code",
   "execution_count": 9,
   "metadata": {},
   "outputs": [
    {
     "name": "stdout",
     "output_type": "stream",
     "text": [
      "ortvw 3208\n"
     ]
    }
   ],
   "source": [
    "find_five()"
   ]
  },
  {
   "cell_type": "code",
   "execution_count": 10,
   "metadata": {},
   "outputs": [
    {
     "name": "stdout",
     "output_type": "stream",
     "text": [
      "jtzmf 3768\n"
     ]
    }
   ],
   "source": [
    "find_five()"
   ]
  },
  {
   "cell_type": "code",
   "execution_count": 11,
   "metadata": {},
   "outputs": [
    {
     "name": "stdout",
     "output_type": "stream",
     "text": [
      "zzide 1585\n"
     ]
    }
   ],
   "source": [
    "find_five()"
   ]
  },
  {
   "cell_type": "markdown",
   "metadata": {},
   "source": [
    "## HW04_ch09_ex03_joanne"
   ]
  },
  {
   "cell_type": "markdown",
   "metadata": {},
   "source": [
    "(1)\n",
    "Write a function called has_no_e that returns True if the given word doesn't\n",
    "have the letter \"e\" in it.\n",
    "  - write has_no_e\n"
   ]
  },
  {
   "cell_type": "code",
   "execution_count": 12,
   "metadata": {},
   "outputs": [
    {
     "name": "stdout",
     "output_type": "stream",
     "text": [
      "What do you want to evaluate?> guidelines\n",
      "has_some_e\n"
     ]
    }
   ],
   "source": [
    "def has_no_e(word):\n",
    "    if \"e\" not in word:\n",
    "        print('has_no_e')\n",
    "        return True\n",
    "    else: \n",
    "        print('has_some_e')\n",
    "        return False\n",
    "    \n",
    "##############################################################################\n",
    "def main():\n",
    "# Call your function(s) here.\n",
    "    word = input('What do you want to evaluate?> ')\n",
    "    has_no_e(word)\n",
    "\n",
    "if __name__ == '__main__':\n",
    "    main()"
   ]
  },
  {
   "cell_type": "markdown",
   "metadata": {},
   "source": [
    "(2)\n",
    "Modify your program from 9.1 to print only the words that have no \"e\" and\n",
    "compute the percentage of the words in the list that have no \"e\".\n",
    "  - print each approved word on new line, followed at the end by the %\n",
    "  - name your function print_no_e"
   ]
  },
  {
   "cell_type": "code",
   "execution_count": 14,
   "metadata": {},
   "outputs": [
    {
     "name": "stdout",
     "output_type": "stream",
     "text": [
      "Gimem some words > \"print\",\"some\",\"words\"\n",
      "print\n",
      "words\n"
     ]
    }
   ],
   "source": [
    "# def print_no_e(alist):\n",
    "#     for item in alist:\n",
    "#         if \"e\" in item:\n",
    "#             pass\n",
    "#         else:\n",
    "#             print(item)\n",
    "\n",
    "### why doesn't this work?! \n",
    "\n",
    "def print_no_e(alist):\n",
    "    for i in range(len(alist)):\n",
    "        aval = alist[i]\n",
    "        \n",
    "        if \"e\" in aval:\n",
    "            continue \n",
    "        print(aval) \n",
    "        \n",
    "\n",
    "##############################################################################\n",
    "def main():\n",
    "# Call your function(s) here.\n",
    "    alist = input('Gimem some words > ')\n",
    "    alist = eval(alist)\n",
    "    print_no_e(alist)\n",
    "\n",
    "if __name__ == '__main__':\n",
    "    main()"
   ]
  },
  {
   "cell_type": "markdown",
   "metadata": {},
   "source": [
    "## HW04_ch09_ex04_joanne"
   ]
  },
  {
   "cell_type": "code",
   "execution_count": 15,
   "metadata": {},
   "outputs": [],
   "source": [
    "# (1)\n",
    "# Write a function named uses_only that takes a word and a string of letters,\n",
    "# and that returns True if the word contains only letters in the list.\n",
    "#   - write uses_only\n",
    "# (2)\n",
    "# Can you make a sentence using only the letters acefhlo? Other than \"Hoe\n",
    "# alfalfa?\"\n",
    "#   - write function to assist you\n",
    "#   - manually type favorite sentence(s) here:\n",
    "#       1: Oh he feel half face \n",
    "#       2: Coach face off\n",
    "#       3: Fall off coach, feel face off"
   ]
  },
  {
   "cell_type": "code",
   "execution_count": 16,
   "metadata": {},
   "outputs": [
    {
     "name": "stdout",
     "output_type": "stream",
     "text": [
      "a\n",
      "all\n",
      "call\n",
      "cell\n",
      "coach\n",
      "each\n",
      "face\n",
      "fall\n",
      "feel\n",
      "half\n",
      "he\n",
      "local\n",
      "of\n",
      "off\n",
      "oh\n"
     ]
    }
   ],
   "source": [
    "def uses_only(word, allowed_letter):\n",
    "    for letter in word:\n",
    "        if letter not in allowed_letter:\n",
    "            return False\n",
    "    return True\n",
    "\n",
    "def gen_word():\n",
    "    file = open(\"1000words.txt\",'r')\n",
    "    for line in file.readlines():\n",
    "        line = line.strip()\n",
    "        if uses_only(line, 'acefhlo'):\n",
    "            print(line)\n",
    "\n",
    "            \n",
    "##############################################################################\n",
    "         \n",
    "def main():\n",
    "    gen_word()  # Call your funFction(s) here.\n",
    "\n",
    "if __name__ == '__main__':\n",
    "    main()"
   ]
  },
  {
   "cell_type": "code",
   "execution_count": 17,
   "metadata": {},
   "outputs": [
    {
     "data": {
      "text/plain": [
       "False"
      ]
     },
     "execution_count": 17,
     "metadata": {},
     "output_type": "execute_result"
    }
   ],
   "source": [
    "uses_only(\"word\",\"ae\")"
   ]
  },
  {
   "cell_type": "markdown",
   "metadata": {},
   "source": [
    "## HW04_ch09_ex05_joanne"
   ]
  },
  {
   "cell_type": "code",
   "execution_count": 18,
   "metadata": {},
   "outputs": [],
   "source": [
    "# (1)\n",
    "# Write a function named uses_all that takes a word and a string of required\n",
    "# letters, and that returns True if the word uses all the required letters at\n",
    "# least once.\n",
    "#   - write uses_all\n",
    "# (2)\n",
    "# How many words are there that use all the vowels aeiou? How about\n",
    "# aeiouy?\n",
    "#   - write functions(s) to assist you\n",
    "#   - # of words that use all aeiou: [type here]\n",
    "#   - # of words that use all aeiouy: [type here]"
   ]
  },
  {
   "cell_type": "code",
   "execution_count": 19,
   "metadata": {
    "scrolled": true
   },
   "outputs": [
    {
     "name": "stdout",
     "output_type": "stream",
     "text": [
      "True\n",
      "295\n",
      "22\n"
     ]
    }
   ],
   "source": [
    "def use_all(word, required_letters):\n",
    "    for i in required_letters:\n",
    "        if i not in word:\n",
    "            return False\n",
    "    \n",
    "    return True\n",
    "\n",
    "def special_word_counter(required_letters):\n",
    "    count = 0\n",
    "    file = open('words.txt','r')\n",
    "    for line in file:\n",
    "        if use_all(line.strip(), required_letters):\n",
    "            count += 1\n",
    "    return count\n",
    "\n",
    "\n",
    "##############################################################################\n",
    "def main():\n",
    "    print(use_all('word','wrd'))\n",
    "    print(special_word_counter('aeiou'))\n",
    "    print(special_word_counter('aeiouy'))\n",
    "\n",
    "if __name__ == '__main__':\n",
    "    main()"
   ]
  },
  {
   "cell_type": "markdown",
   "metadata": {},
   "source": [
    "## HW04_ch09_ex06"
   ]
  },
  {
   "cell_type": "code",
   "execution_count": 20,
   "metadata": {},
   "outputs": [],
   "source": [
    "# (1)\n",
    "# Write a function called is_abecedarian that returns True if the letters in a\n",
    "# word appear in alphabetical order (double letters are ok).\n",
    "#   - write is_abecedarian\n",
    "# (2)\n",
    "# How many abecedarian words are there in roster.txt?\n",
    "#   - write additional function(s) to assist you\n",
    "#   - number of abecedarian words:"
   ]
  },
  {
   "cell_type": "code",
   "execution_count": 21,
   "metadata": {},
   "outputs": [
    {
     "name": "stdout",
     "output_type": "stream",
     "text": [
      "True\n",
      "False\n",
      "3\n"
     ]
    }
   ],
   "source": [
    "def is_abecedarian(word):\n",
    "    \n",
    "    return word == \"\".join(sorted(word))\n",
    "\n",
    "\n",
    "def how_many_abecedarian():\n",
    "    with open(\"words2.txt\", \"r\") as fin:\n",
    "        words = [word.strip() for word in fin.readlines()]\n",
    "    return sum([is_abecedarian(word) for word in words])\n",
    "\n",
    "\n",
    "##############################################################################\n",
    "def main():\n",
    "    pass  # Call your function(s) here.\n",
    "    print(is_abecedarian(\"abc\"))\n",
    "    print(is_abecedarian(\"zyxwvutsrqponmlkjihgfedcba\"))\n",
    "    print(how_many_abecedarian())\n",
    "\n",
    "\n",
    "if __name__ == '__main__':\n",
    "    main()"
   ]
  },
  {
   "cell_type": "markdown",
   "metadata": {},
   "source": [
    "## HW04_ch10_ex01_joanne"
   ]
  },
  {
   "cell_type": "code",
   "execution_count": 22,
   "metadata": {},
   "outputs": [],
   "source": [
    "# I want to be able to call nested_sum from main w/ various nested lists\n",
    "# and I greatly desire that the function returns the sum.\n",
    "# Example of nested list: [1, 2, [3]]\n",
    "#\n",
    "# I will be calling things like this: nested_sum([[1, 2], [3], [4, 5, 6]])\n",
    "# I will be expected that to return, in this case, 21\n",
    "\n",
    "# Verify you've tested w/ various nestings (perhaps by writing a test function\n",
    "# like in the string exercises from Google (string1.py and string2.py))\n",
    "#\n",
    "# In your final submission:\n",
    "#  - Do not print anything extraneous.\n",
    "#  - Do not put anything but pass in main()\n"
   ]
  },
  {
   "cell_type": "code",
   "execution_count": 23,
   "metadata": {},
   "outputs": [],
   "source": [
    "def nested_sum(nested_list):\n",
    "    final_sum = 0\n",
    "    \n",
    "    for i in range(len(nested_list)):\n",
    "        if type(nested_list[i]) == 'list':\n",
    "            final_sum += sum(nested_list[i])\n",
    "        final_sum += sum(nested_list[i])\n",
    "        \n",
    "    print(final_sum)\n",
    "    \n"
   ]
  },
  {
   "cell_type": "code",
   "execution_count": 24,
   "metadata": {},
   "outputs": [
    {
     "name": "stdout",
     "output_type": "stream",
     "text": [
      "21\n"
     ]
    }
   ],
   "source": [
    "nested_sum([[1, 2], [3], [4, 5, 6]])"
   ]
  },
  {
   "cell_type": "code",
   "execution_count": 25,
   "metadata": {},
   "outputs": [],
   "source": [
    "def main():\n",
    "\n",
    "    pass\n",
    "    \n",
    "if __name__ == '__main__':\n",
    "    main()\n"
   ]
  }
 ],
 "metadata": {
  "kernelspec": {
   "display_name": "Python 3",
   "language": "python",
   "name": "python3"
  },
  "language_info": {
   "codemirror_mode": {
    "name": "ipython",
    "version": 3
   },
   "file_extension": ".py",
   "mimetype": "text/x-python",
   "name": "python",
   "nbconvert_exporter": "python",
   "pygments_lexer": "ipython3",
   "version": "3.7.4"
  }
 },
 "nbformat": 4,
 "nbformat_minor": 2
}
