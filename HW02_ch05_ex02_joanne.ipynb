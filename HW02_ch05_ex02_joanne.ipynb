{
 "cells": [
  {
   "cell_type": "markdown",
   "metadata": {},
   "source": [
    "\n",
    "Fermat's Last Theorem says that there are no positive integers a, b, and c\n",
    "such that\n",
    "       a^n + b^n = c^n\n",
    "for any values of n greater than 2.\n",
    "\n",
    "(1) Write a function named `check_fermat` that takes four parameters-a, b, c\n",
    "and n-and that checks to see if Fermat's theorem holds. If n is greater than\n",
    "2 and it turns out to be true that\n",
    "       a^n + b^n = c^n\n",
    "the program should print, \"Holy smokes, Fermat was wrong!\"\"\n",
    "Otherwise the program should print, \"No, that doesn't work.\"\n",
    "\n",
    "(2) Write a function named `check_fermat_ints` that prompts the user to input\n",
    "values for a, b, c and n, converts them to integers, and uses check_fermat\n",
    "to check whether they violate Fermat's theorem.\n"
   ]
  },
  {
   "cell_type": "code",
   "execution_count": 5,
   "metadata": {
    "scrolled": true
   },
   "outputs": [
    {
     "name": "stdout",
     "output_type": "stream",
     "text": [
      "Gimme a number for a: 8\n",
      "Gimme a number for b: 9\n",
      "Gimme a number for c: 2\n",
      "Gimme a number for n that is greater than 2: 3\n",
      "No, that doesn't work.\n",
      "Hello World!\n"
     ]
    }
   ],
   "source": [
    "###############################################################################\n",
    "# Write your functions below:\n",
    "def check_fermat(a,b,c,n):\n",
    "    if n > 2:\n",
    "        if a^n + b^n == c^n:\n",
    "            print(\"Holy smokes, Fermat was wrong!\")\n",
    "        else:\n",
    "            print(\"No, that doesn't work.\")\n",
    "\n",
    "def check_fermat_ints(a,b,c,n):\n",
    "    check_fermat(a,b,c,n)\n",
    "\n",
    "# Write your functions above:\n",
    "###############################################################################\n",
    "def main():\n",
    "    \"\"\"Call your function within this function.\n",
    "    When complete have one function call in this function:\n",
    "    check_fermat_ints(1,2,3,4)\n",
    "    and two functions defined in the body:\n",
    "    check_fermat_ints()\n",
    "    check_fermat()\n",
    "    \"\"\"\n",
    "    a = int(input('Gimme a number for a: '))\n",
    "    b = int(input('Gimme a number for b: '))\n",
    "    c = int(input('Gimme a number for c: '))\n",
    "    n = int(input('Gimme a number for n that is greater than 2: '))\n",
    "    check_fermat_ints(a,b,c,n)\n",
    "    \n",
    "    print(\"Hello World!\")\n",
    "\n",
    "\n",
    "if __name__ == \"__main__\":\n",
    "    main()"
   ]
  }
 ],
 "metadata": {
  "kernelspec": {
   "display_name": "Python 3",
   "language": "python",
   "name": "python3"
  },
  "language_info": {
   "codemirror_mode": {
    "name": "ipython",
    "version": 3
   },
   "file_extension": ".py",
   "mimetype": "text/x-python",
   "name": "python",
   "nbconvert_exporter": "python",
   "pygments_lexer": "ipython3",
   "version": "3.7.4"
  }
 },
 "nbformat": 4,
 "nbformat_minor": 2
}
