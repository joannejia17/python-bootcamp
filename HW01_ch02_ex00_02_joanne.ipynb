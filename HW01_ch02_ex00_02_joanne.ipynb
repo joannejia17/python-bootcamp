{
 "cells": [
  {
   "cell_type": "markdown",
   "metadata": {},
   "source": [
    "NOTE: You do not run this script.\n",
    "Assume that we execute the following assignment statements:\n",
    "width = 17\n",
    "height = 12.0\n",
    "delimiter = '.'\n",
    "\n",
    "For each of the following expressions, write the value of the expression\n",
    "and the type (of the value of the expression).\n",
    "\n",
    "1. width/2\n",
    "value: 8.5\n",
    "type: float\n",
    "\n",
    "2. width/2.0\n",
    "value: 8.5\n",
    "type: float\n",
    "\n",
    "3. height/3\n",
    "value: 4\n",
    "type: integer\n",
    "\n",
    "4. 1 + 2 * 5\n",
    "value: 11\n",
    "type: integer\n",
    "\n",
    "5. delimiter * 5\n",
    "value: .....\n",
    "type: ?\n",
    "\n",
    "Use the Python interpreter to check your answers.\n",
    "[comment on any surprises here]"
   ]
  },
  {
   "cell_type": "code",
   "execution_count": 22,
   "metadata": {},
   "outputs": [
    {
     "name": "stdout",
     "output_type": "stream",
     "text": [
      "8.5 <class 'float'>\n"
     ]
    }
   ],
   "source": [
    "width = 17\n",
    "height = 12.0\n",
    "delimiter = '.'\n",
    "print(width/2,type(width/2))"
   ]
  },
  {
   "cell_type": "code",
   "execution_count": 4,
   "metadata": {},
   "outputs": [
    {
     "name": "stdout",
     "output_type": "stream",
     "text": [
      "8.5 <class 'float'>\n"
     ]
    }
   ],
   "source": [
    "print(width/2.0,type(width/2.0))"
   ]
  },
  {
   "cell_type": "code",
   "execution_count": 23,
   "metadata": {},
   "outputs": [
    {
     "name": "stdout",
     "output_type": "stream",
     "text": [
      "4.0 <class 'float'>\n"
     ]
    }
   ],
   "source": [
    "print(height/3,type(height/3))"
   ]
  },
  {
   "cell_type": "code",
   "execution_count": 27,
   "metadata": {},
   "outputs": [
    {
     "name": "stdout",
     "output_type": "stream",
     "text": [
      "11 <class 'int'>\n"
     ]
    }
   ],
   "source": [
    "print(1 + 2 * 5, type(1 + 2 * 5))"
   ]
  },
  {
   "cell_type": "code",
   "execution_count": 28,
   "metadata": {},
   "outputs": [
    {
     "name": "stdout",
     "output_type": "stream",
     "text": [
      "..... <class 'str'>\n"
     ]
    }
   ],
   "source": [
    "print(delimiter * 5, type(delimiter * 5))"
   ]
  },
  {
   "cell_type": "code",
   "execution_count": 32,
   "metadata": {},
   "outputs": [
    {
     "name": "stdout",
     "output_type": "stream",
     "text": [
      "16.0 <class 'float'>\n"
     ]
    }
   ],
   "source": [
    "print(4+height,type(4*height))"
   ]
  },
  {
   "cell_type": "code",
   "execution_count": 34,
   "metadata": {},
   "outputs": [],
   "source": [
    "# I'm surprised that the output of division is typically a float but not for addition, subtraction or multiplication. \n",
    "# Futhermore, if a float is present in any type of calculations, the output becomes a float. "
   ]
  }
 ],
 "metadata": {},
 "nbformat": 4,
 "nbformat_minor": 2
}
