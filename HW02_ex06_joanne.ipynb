{
 "cells": [
  {
   "cell_type": "markdown",
   "metadata": {},
   "source": [
    "(1) Please comment your code.\n",
    "(2) Please be thoughtful when naming your variables.\n",
    "(3) Please remove development code before submitting."
   ]
  },
  {
   "cell_type": "markdown",
   "metadata": {},
   "source": [
    "Exercise 6.2\n",
    "See 6.1: \"write a compare function takes two values, x and y, and returns 1\n",
    "if x > y, 0 if x == y, and -1 if x < y.\"\n",
    "When you submit only include your final function: compare\n",
    "\n"
   ]
  },
  {
   "cell_type": "code",
   "execution_count": 7,
   "metadata": {},
   "outputs": [],
   "source": [
    "def compare(x,y):\n",
    "    if x > y:\n",
    "        return 1\n",
    "    elif x == y:\n",
    "        return 0\n",
    "    else: \n",
    "        return -1 \n"
   ]
  },
  {
   "cell_type": "markdown",
   "metadata": {},
   "source": [
    "Exercise 6.2\n",
    "See 6.2: \"use incremental development to write a function called hypotenuse\n",
    "that returns the length of the hypotenuse of a right triangle given the\n",
    "lengths of the other two legs as arguments.\"\n",
    "When you submit only include your final function: hypotenuse\n",
    "Do develop incrementally. Do not share in your final push your incremental\n",
    "work.\n"
   ]
  },
  {
   "cell_type": "code",
   "execution_count": 37,
   "metadata": {},
   "outputs": [
    {
     "data": {
      "text/plain": [
       "5.0"
      ]
     },
     "execution_count": 37,
     "metadata": {},
     "output_type": "execute_result"
    }
   ],
   "source": [
    "import math\n",
    "\n",
    "def hypotenuse(a,b):\n",
    "    return math.sqrt(a**2 + b**2)\n",
    "    \n",
    "hypotenuse(3,4)"
   ]
  },
  {
   "cell_type": "markdown",
   "metadata": {},
   "source": [
    "\n",
    "Exercise 6.4\n",
    "See 6.4: \"write a function is_between(x, y, z) that returns True if x ≤ y ≤ z\n",
    "or False otherwise\"\n",
    "When you submit only include your final function: is_between\n"
   ]
  },
  {
   "cell_type": "code",
   "execution_count": 16,
   "metadata": {},
   "outputs": [
    {
     "data": {
      "text/plain": [
       "False"
      ]
     },
     "execution_count": 16,
     "metadata": {},
     "output_type": "execute_result"
    }
   ],
   "source": [
    "def is_between(x,y,z):\n",
    "    if x <= y <= z:\n",
    "        return True\n",
    "    else:\n",
    "        return False\n",
    "    \n",
    "is_between(4,5,3)"
   ]
  },
  {
   "cell_type": "markdown",
   "metadata": {},
   "source": [
    "Exercise 3.2\n",
    "See \"Exercise 3, part 2\": \"Write a function called is_palindrome that takes a\n",
    "string argument and returns True if it is a palindrome and False otherwise.\n",
    "Remember that you can use the built-in function len to check the length of a\n",
    "string.\"\n",
    "When you submit only include your final function: is_palindrome\n"
   ]
  },
  {
   "cell_type": "code",
   "execution_count": 24,
   "metadata": {
    "scrolled": true
   },
   "outputs": [
    {
     "data": {
      "text/plain": [
       "True"
      ]
     },
     "execution_count": 24,
     "metadata": {},
     "output_type": "execute_result"
    }
   ],
   "source": [
    "def is_palindrome(string):\n",
    "    # Turning the string into a list\n",
    "    listOfString = list(string)\n",
    "    # Checking if reading the items in the list backward is the same as reading them forward\n",
    "    if listOfString == listOfString[::-1]:\n",
    "        return True\n",
    "    else:\n",
    "        return False\n",
    "    \n",
    "is_palindrome(\"stringnirts\")"
   ]
  },
  {
   "cell_type": "markdown",
   "metadata": {},
   "source": [
    "Exercise 4\n",
    "See \"Exercise 4\": \"A number, a, is a power of b if it is divisible by b and\n",
    "a/b is a power of b. Write a function called is_power that takes parameters a\n",
    "and b and returns True if a is a power of b. Note: you will have to think\n",
    "about the base case.\"\n",
    "Note: Please use the provided definition and only plan for positive integers\n",
    "(whole numbers not including zero)\n",
    "When you submit only include your final function: is_power"
   ]
  },
  {
   "cell_type": "code",
   "execution_count": 42,
   "metadata": {},
   "outputs": [
    {
     "name": "stdout",
     "output_type": "stream",
     "text": [
      "0\n",
      "-1\n",
      "1\n",
      "1.4142135623730951\n",
      "5.0\n",
      "12.059850745345068\n",
      "True\n",
      "False\n",
      "False\n",
      "True\n",
      "False\n",
      "True\n",
      "True\n",
      "True\n",
      "False\n",
      "True\n",
      "True\n",
      "False\n"
     ]
    }
   ],
   "source": [
    "def is_power(a,b):\n",
    "    # a % b = 0    8 % 2 = 0 \n",
    "    # (a/b) % b = 0   4 % 2 = 0 \n",
    "    if a % b == 0 and ((a/b) % b) == 0:\n",
    "        return True\n",
    "    else:\n",
    "        return False\n",
    "\n",
    "def main():\n",
    "    \"\"\"Your functions will be called within this function.\"\"\"\n",
    "    ###########################################################################\n",
    "    # Use this space temporarily to call functions in development:\n",
    "    is_power(8,2)\n",
    "\n",
    "    ##########################################################################\n",
    "    # Uncomment the below to test and before commiting:\n",
    "    # # Exercise 1\n",
    "    print(compare(1, 1))\n",
    "    print(compare(1, 2))\n",
    "    print(compare(2, 1))\n",
    "    # # Exercise 2\n",
    "    print(hypotenuse(1, 1))\n",
    "    print(hypotenuse(3, 4))\n",
    "    print(hypotenuse(1.2, 12))\n",
    "    # # Exercise 3\n",
    "    print(is_between(1, 2, 3))\n",
    "    print(is_between(2, 1, 3))\n",
    "    print(is_between(3, 1, 2))\n",
    "    print(is_between(1, 1, 2))\n",
    "    # # Exercise 6\n",
    "    print(is_palindrome(\"Python\"))\n",
    "    print(is_palindrome(\"evitative\"))\n",
    "    print(is_palindrome(\"sememes\"))\n",
    "    print(is_palindrome(\"oooooooooooo\"))\n",
    "    # # Exercise 7\n",
    "    print(is_power(28, 3))\n",
    "    print(is_power(27, 3))\n",
    "    print(is_power(248832, 12))\n",
    "    print(is_power(248844, 12))\n",
    "\n",
    "if __name__ == \"__main__\":\n",
    "    main()\n"
   ]
  }
 ],
 "metadata": {
  "kernelspec": {
   "display_name": "Python 3",
   "language": "python",
   "name": "python3"
  },
  "language_info": {
   "codemirror_mode": {
    "name": "ipython",
    "version": 3
   },
   "file_extension": ".py",
   "mimetype": "text/x-python",
   "name": "python",
   "nbconvert_exporter": "python",
   "pygments_lexer": "ipython3",
   "version": "3.7.4"
  }
 },
 "nbformat": 4,
 "nbformat_minor": 2
}
