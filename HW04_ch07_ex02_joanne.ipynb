{
 "cells": [
  {
   "cell_type": "code",
   "execution_count": 7,
   "metadata": {},
   "outputs": [
    {
     "name": "stdout",
     "output_type": "stream",
     "text": [
      "I want to evaluate:  6\n",
      "6\n",
      "I want to evaluate:  7\n",
      "7\n",
      "I want to evaluate:  8\n",
      "8\n",
      "I want to evaluate:  done\n",
      "Okay. Your last result:  8\n",
      "None\n"
     ]
    }
   ],
   "source": [
    "# The built-in function eval takes a string and evaluates it using the Python\n",
    "# interpreter.\n",
    "# For example:\n",
    "\n",
    "#     >>> eval('1 + 2 * 3')\n",
    "#     7\n",
    "#     >>> import math\n",
    "#     >>> eval('math.sqrt(5)')\n",
    "#     2.2360679774997898\n",
    "#     >>> eval('type(math.pi)')\n",
    "#     <type 'float'>\n",
    "\n",
    "# Write a function called eval_loop that iteratively prompts the user, takes\n",
    "# the resulting input and evaluates it using eval, and prints the result.\n",
    "\n",
    "# It should continue until the user enters 'done', and then return the value of\n",
    "# the last expression it evaluated.\n",
    "\n",
    "# Here is an opportunity to use things like `try`, `except`, and/or `finally`.\n",
    "\n",
    "# Please write a docstring for every function you write.\n",
    "\n",
    "###############################################################################\n",
    "import math\n",
    "\n",
    "def eval_loop():\n",
    "    while True:\n",
    "        user_input = str(input('I want to evaluate:  '))    \n",
    "        if user_input == 'done': \n",
    "            break \n",
    "        evaluation_result = eval(user_input)\n",
    "        print(evaluation_result)   \n",
    "        \n",
    "    print(\"Okay. Your last result: \", evaluation_result)\n",
    "    \n",
    "###############################################################################\n",
    "def main():\n",
    "    \n",
    "    print(eval_loop())\n",
    "\n",
    "if __name__ == '__main__':\n",
    "    main()\n",
    "    "
   ]
  }
 ],
 "metadata": {
  "kernelspec": {
   "display_name": "Python 3",
   "language": "python",
   "name": "python3"
  },
  "language_info": {
   "codemirror_mode": {
    "name": "ipython",
    "version": 3
   },
   "file_extension": ".py",
   "mimetype": "text/x-python",
   "name": "python",
   "nbconvert_exporter": "python",
   "pygments_lexer": "ipython3",
   "version": "3.7.4"
  }
 },
 "nbformat": 4,
 "nbformat_minor": 2
}
