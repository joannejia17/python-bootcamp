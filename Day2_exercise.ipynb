{
 "cells": [
  {
   "cell_type": "code",
   "execution_count": null,
   "metadata": {},
   "outputs": [],
   "source": [
    "selectInteger = 12\n",
    "while True: \n",
    "    try:\n",
    "        x = int(input(\"Give me a number between 1-25\"))\n",
    "        myComparaer(x)\n",
    "        break\n",
    "    except ValueError: \n",
    "        print(\"Hmmm try again: \")\n",
    "        \n",
    "def myComparaer(x):\n",
    "    if x == selectInteger:\n",
    "        print('You got it!')\n",
    "    elif x > selectInteger: \n",
    "        print('Too high! Try again:')\n",
    "    else:\n",
    "        print('Too low! Try again:')\n"
   ]
  }
 ],
 "metadata": {
  "kernelspec": {
   "display_name": "Python 3",
   "language": "python",
   "name": "python3"
  }
 },
 "nbformat": 4,
 "nbformat_minor": 2
}
