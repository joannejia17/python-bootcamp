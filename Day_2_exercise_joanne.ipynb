{
 "cells": [
  {
   "cell_type": "markdown",
   "metadata": {},
   "source": [
    "Create a program that does the following:\n",
    "    - creates a random integer from 1 - 25\n",
    "    - asks the user to guess what the number is\n",
    "    - validates input is a number\n",
    "    - tells the user if they guess correctly\n",
    "        - if not: tells them too high/low\n",
    "    - only lets the user guess five times\n",
    "        - then ends the program\n",
    "\n",
    "Please write a docstring for every function you write.\n"
   ]
  },
  {
   "cell_type": "code",
   "execution_count": 5,
   "metadata": {},
   "outputs": [
    {
     "name": "stdout",
     "output_type": "stream",
     "text": [
      "Give me a number between 1-25: b\n",
      "Eeeeeee invalid input! Try again. \n",
      "You have tried  1 time.\n",
      "\n",
      "\n",
      "Give me a number between 1-25: g\n",
      "Eeeeeee invalid input! Try again. \n",
      "You have tried  2 times.\n",
      "\n",
      "\n",
      "Give me a number between 1-25: 3\n",
      "Too low! Try again.\n",
      "You have tried  3 times.\n",
      "\n",
      "\n",
      "Give me a number between 1-25: 4\n",
      "Too low! Try again.\n",
      "You have tried  4 times.\n",
      "\n",
      "\n",
      "Give me a number between 1-25: 2\n",
      "Too low! Try again.\n",
      "You have tried  5 times.\n",
      "\n",
      "\n"
     ]
    }
   ],
   "source": [
    "# Generate a random integer between 1-25 \n",
    "import random \n",
    "selectInteger = random.randint(1,25)\n",
    "\n",
    "# This function compares the user inputted number with the pre-selected number and outputs a message accordingly \n",
    "def myComparaer(y):\n",
    "    if y == selectInteger:\n",
    "        print('You got it!') \n",
    "    elif y > selectInteger: \n",
    "        print('Too high! Try again.')\n",
    "    else:\n",
    "        print('Too low! Try again.')     \n",
    "    \n",
    "# This function checks if the user has tried more than 5 times \n",
    "def checkerForCounter(counter):\n",
    "    if counter < 5:\n",
    "        return True \n",
    "    else:\n",
    "        return False\n",
    "\n",
    "# Call the two functions and add in exception handling\n",
    "def game():\n",
    "    counter = 0\n",
    "    while checkerForCounter(counter) == True: \n",
    "        try:\n",
    "            y = int(input(\"Give me a number between 1-25: \"))\n",
    "            myComparaer(y)\n",
    "            counter = counter + 1\n",
    "            if counter == 1:\n",
    "                print(\"You have tried \", counter, \"time.\")\n",
    "                print(\"\\n\")\n",
    "            else: \n",
    "                print(\"You have tried \",counter,\"times.\")\n",
    "                print(\"\\n\")\n",
    "\n",
    "        except ValueError: \n",
    "            counter += 1\n",
    "            print(\"Eeeeeee invalid input! Try again. \")\n",
    "            if counter == 1:\n",
    "                print(\"You have tried \", counter, \"time.\")\n",
    "                print(\"\\n\")\n",
    "            else: \n",
    "                print(\"You have tried \",counter,\"times.\")\n",
    "                print(\"\\n\")\n",
    "\n",
    "game()"
   ]
  }
 ],
 "metadata": {
  "kernelspec": {
   "display_name": "Python 3",
   "language": "python",
   "name": "python3"
  },
  "language_info": {
   "codemirror_mode": {
    "name": "ipython",
    "version": 3
   },
   "file_extension": ".py",
   "mimetype": "text/x-python",
   "name": "python",
   "nbconvert_exporter": "python",
   "pygments_lexer": "ipython3",
   "version": "3.7.4"
  }
 },
 "nbformat": 4,
 "nbformat_minor": 2
}
