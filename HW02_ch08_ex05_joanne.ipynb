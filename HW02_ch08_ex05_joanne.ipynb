{
 "cells": [
  {
   "cell_type": "markdown",
   "metadata": {},
   "source": [
    "Structure this script entirely on your own.\n",
    "See Chapter 8: Strings Exercise 5 for the task.\n",
    "\n",
    "\n",
    "Please do provide function calls that test/demonstrate your\n",
    "function.\n",
    "Please write a docstring for every function you write.\n",
    "\n",
    "Write a function called rotate_word that takes a string and an integer as parameters, and returns a new string that contains the letters from the original string rotated by the given amount.\n",
    "\n",
    "\n"
   ]
  },
  {
   "cell_type": "code",
   "execution_count": 76,
   "metadata": {},
   "outputs": [
    {
     "name": "stdout",
     "output_type": "stream",
     "text": [
      "def\n"
     ]
    }
   ],
   "source": [
    "def rotate_word(string, integer):\n",
    "    ## turning the string into a list\n",
    "    letterlist = list(string)\n",
    "    for letter in letterlist:\n",
    "#       letter_index = letterlist.find(str(letter))\n",
    "        new_ord = ord(letter) + integer\n",
    "        if new_ord > 122:\n",
    "            new_ord = new_ord - 25\n",
    "        new_letter = chr(new_ord)\n",
    "        ### replacing the letter with a new letter\n",
    "        letter_index = letterlist.index(letter)\n",
    "        letterlist[letter_index] = new_letter\n",
    "        \n",
    "    ## turning the new list back into string        \n",
    "    print((\"\".join(letterlist)))\n",
    "    \n",
    "rotate_word('xyz', 5)"
   ]
  },
  {
   "cell_type": "code",
   "execution_count": 74,
   "metadata": {},
   "outputs": [],
   "source": [
    "##### experimental test code #####\n",
    "# s = \"string\"\n",
    "# list_s = list(s)\n",
    "# print(list_s)\n",
    "\n",
    "# index_s = list_s.index('t')\n",
    "# print(index_s)"
   ]
  }
 ],
 "metadata": {
  "kernelspec": {
   "display_name": "Python 3",
   "language": "python",
   "name": "python3"
  }
 },
 "nbformat": 4,
 "nbformat_minor": 2
}
