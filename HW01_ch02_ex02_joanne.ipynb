{
 "cells": [
  {
   "cell_type": "markdown",
   "metadata": {},
   "source": [
    "NOTE: You do not run this script.\n",
    "\n",
    "Practice using the Python interpreter as a calculator.\n",
    "Paste answer and calculations below"
   ]
  },
  {
   "cell_type": "markdown",
   "metadata": {},
   "source": [
    "1. The volume of a sphere with radius r is 4/3 π r^3.\n",
    "What is the volume of a sphere with radius 5? [answer here]\n",
    "[calculations here]"
   ]
  },
  {
   "cell_type": "code",
   "execution_count": 6,
   "metadata": {},
   "outputs": [
    {
     "name": "stdout",
     "output_type": "stream",
     "text": [
      "523.5987755982989\n"
     ]
    }
   ],
   "source": [
    "pi = 3.1415926535897932\n",
    "r = 5\n",
    "v = 4/3 * pi * r **3\n",
    "print(v)"
   ]
  },
  {
   "cell_type": "markdown",
   "metadata": {},
   "source": [
    "2. Suppose the cover price of a book is 24.95, but bookstores get a 40 percent discount. Shipping costs 3 for the first copy and 75 cents for each additional copy. What is the total wholesale cost for 60 copies? total wholesale cost: "
   ]
  },
  {
   "cell_type": "code",
   "execution_count": 11,
   "metadata": {},
   "outputs": [
    {
     "name": "stdout",
     "output_type": "stream",
     "text": [
      "646.0500000000001\n"
     ]
    }
   ],
   "source": [
    "p = 24.95\n",
    "discount = 0.4\n",
    "shipping = 3\n",
    "addtl_shipping = 0.75\n",
    "\n",
    "purchase_cost = p * discount * 60\n",
    "shipping_cost = shipping + addtl_shipping * 59\n",
    "total_cost = purchase_cost + shipping_cost\n",
    "\n",
    "print(total_cost)"
   ]
  },
  {
   "cell_type": "markdown",
   "metadata": {},
   "source": [
    "3. If I leave my house at 6:52 am and run 1 mile at an easy pace\n",
    "(8:15 per mile), then 3 miles at tempo (7:12 per mile) and 1 mile at easy\n",
    "pace again, what time do I get home for breakfast?\n",
    "time: [answer here]\n",
    "[calculations here]"
   ]
  },
  {
   "cell_type": "code",
   "execution_count": 62,
   "metadata": {},
   "outputs": [
    {
     "name": "stdout",
     "output_type": "stream",
     "text": [
      "You get home at  07 : 30 : 06 .\n"
     ]
    }
   ],
   "source": [
    "import math\n",
    "\n",
    "first_part_second = 8 * 60 + 15\n",
    "second_part_second = (7 * 60 + 12) * 3\n",
    "third_part_second = 8 * 60 + 15 \n",
    "start_second = 6 * 60 * 60 + 52 * 60\n",
    "\n",
    "end = start_second + first_part_second + second_part_second + third_part_second\n",
    "end_time_hour = math.floor(end / (60 * 60))\n",
    "end_time_minute = math.floor( (end - end_time_hour * 60 * 60) / 60 )\n",
    "end_time_second = end - end_time_hour * 60 * 60 - end_time_minute * 60\n",
    "\n",
    "## formatting the numbers into double digits for proper clock readings\n",
    "f_end_time_hour = \"{0:0=2d}\".format(end_time_hour)\n",
    "f_end_time_minute = \"{0:0=2d}\".format(end_time_minute)\n",
    "f_end_time_second = \"{0:0=2d}\".format(end_time_second)\n",
    "\n",
    "print(\"You get home at \", f_end_time_hour, \":\", f_end_time_minute, \":\", formatted_end_time_second, \".\")"
   ]
  }
 ],
 "metadata": {
  "kernelspec": {
   "display_name": "Python 3",
   "language": "python",
   "name": "python3"
  },
  "language_info": {
   "codemirror_mode": {
    "name": "ipython",
    "version": 3
   },
   "file_extension": ".py",
   "mimetype": "text/x-python",
   "name": "python",
   "nbconvert_exporter": "python",
   "pygments_lexer": "ipython3",
   "version": "3.7.4"
  }
 },
 "nbformat": 4,
 "nbformat_minor": 2
}
