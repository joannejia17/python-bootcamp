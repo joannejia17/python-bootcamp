{
 "cells": [
  {
   "cell_type": "code",
   "execution_count": 6,
   "metadata": {},
   "outputs": [
    {
     "name": "stdout",
     "output_type": "stream",
     "text": [
      "3\n",
      "3\n"
     ]
    }
   ],
   "source": [
    "# The following program counts the number of times the letter 'a' appears in a\n",
    "# string:\n",
    "\n",
    "#     word = 'banana'\n",
    "#     count = 0\n",
    "#     for letter in word:\n",
    "#         if letter == 'a':\n",
    "#             count = count + 1\n",
    "#     print(count)\n",
    "\n",
    "# Encapsulate this code in a function named \"count\", and generalize it so that\n",
    "# it accepts the string and the letter as arguments.\n",
    "\n",
    "# Please write a docstring for every function you write.\n",
    "\n",
    "###############################################################################\n",
    "import math \n",
    "\n",
    "def count(s, l):\n",
    "    count = 0\n",
    "    for letter in s:\n",
    "        if letter == l:\n",
    "            count = count + 1\n",
    "    print(count)\n",
    "\n",
    "# Body\n",
    "\n",
    "\n",
    "###############################################################################\n",
    "def main():\n",
    "\n",
    "    # Remove print(\"Hello World!\") and add several functions calls to count()\n",
    "    # below, passing various strings and letters\n",
    "    count('bananas','a')\n",
    "    count('macademia', 'a')\n",
    "\n",
    "if __name__ == '__main__':\n",
    "    main()"
   ]
  }
 ],
 "metadata": {
  "kernelspec": {
   "display_name": "Python 3",
   "language": "python",
   "name": "python3"
  },
  "language_info": {
   "codemirror_mode": {
    "name": "ipython",
    "version": 3
   },
   "file_extension": ".py",
   "mimetype": "text/x-python",
   "name": "python",
   "nbconvert_exporter": "python",
   "pygments_lexer": "ipython3",
   "version": "3.7.4"
  }
 },
 "nbformat": 4,
 "nbformat_minor": 2
}
